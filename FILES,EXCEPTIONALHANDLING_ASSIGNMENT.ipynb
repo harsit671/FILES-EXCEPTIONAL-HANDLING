{
  "nbformat": 4,
  "nbformat_minor": 0,
  "metadata": {
    "colab": {
      "provenance": []
    },
    "kernelspec": {
      "name": "python3",
      "display_name": "Python 3"
    },
    "language_info": {
      "name": "python"
    }
  },
  "cells": [
    {
      "cell_type": "markdown",
      "source": [
        "#THEORITICAL QUESTION\n"
      ],
      "metadata": {
        "id": "uhlD1WsovoUn"
      }
    },
    {
      "cell_type": "markdown",
      "source": [
        "1.What is the difference between interpreted and compiled languageS?\n",
        "  - In compiled language the entire program is translated from source code into machine code(binary) before it runs.\n",
        "  - **source code-compiler-machine code-execute**\n",
        "  - In interpreted language code is read and executed line by line at runtime.\n",
        "  -** source code-interpreter-execute(line by line)**\n",
        "  "
      ],
      "metadata": {
        "id": "UXoobA6Qv1GF"
      }
    },
    {
      "cell_type": "markdown",
      "source": [
        "2.What is exception handling in Python?\n",
        "  - Exception handling in python is a way to deal with errors in your program without crashing it."
      ],
      "metadata": {
        "id": "0MLBNwruxhFj"
      }
    },
    {
      "cell_type": "markdown",
      "source": [
        "3.What is the purpose of the finally block in exception handling?\n",
        "  - Finally block is used to define the code that will always run no matter what happens."
      ],
      "metadata": {
        "id": "p8t37n4xyRyS"
      }
    },
    {
      "cell_type": "markdown",
      "source": [
        "4.What is logging in Python?\n",
        "  - It records the state and flow of your program/code/software.It is useful for understanding,monitoring and debugging of your code."
      ],
      "metadata": {
        "id": "toz48g2ByuYL"
      }
    },
    {
      "cell_type": "markdown",
      "source": [
        "5.What is the significance of the __del__ method in Python?\n",
        "  - __del__ is a destructor method in python.It is called automatically when an object is about to be destroyed.  "
      ],
      "metadata": {
        "id": "9hWGDOPEzJRK"
      }
    },
    {
      "cell_type": "markdown",
      "source": [
        "6.What is the difference between import and from ... import in Python?\n",
        "  - imports module imports the entire module\n",
        "  - from module imports specific function/class."
      ],
      "metadata": {
        "id": "hNGWL8z1zuxA"
      }
    },
    {
      "cell_type": "markdown",
      "source": [
        "7.How can you handle multiple exceptions in Python?\n",
        "  - we can handle multiple exceptions by using multiple except blocks."
      ],
      "metadata": {
        "id": "mdZt9B900Puh"
      }
    },
    {
      "cell_type": "markdown",
      "source": [
        "8.What is the purpose of the with statement when handling files in Python?\n",
        "  - With statement manages resources automatically and ensure file is closed even if an error occurs."
      ],
      "metadata": {
        "id": "yaFnKakw0lgp"
      }
    },
    {
      "cell_type": "markdown",
      "source": [
        "9.What is the difference between multithreading and multiprocessing?\n",
        "  -  Multithreading\n",
        "Definition: Running multiple threads (lightweight processes) within a single process.\n",
        "  -  Multiprocessing\n",
        "Definition: Running multiple processes, each with its own Python interpreter and memory space."
      ],
      "metadata": {
        "id": "Hm_mMQhK08U2"
      }
    },
    {
      "cell_type": "markdown",
      "source": [
        "10.What are the advantages of using logging in a program?\n",
        "  - It is useful for understanding,monitoring and debugging your code.It shoes how program behaves over time."
      ],
      "metadata": {
        "id": "26qyB6Do1xZ3"
      }
    },
    {
      "cell_type": "markdown",
      "source": [
        "11.What is memory management in Python?\n",
        "  - Managed by python memory manager.\n",
        "  - uses private heap space.\n",
        "  - includes garbage collection for unused objects.\n",
        "  - built in gc modules for manaual control."
      ],
      "metadata": {
        "id": "1mDWjM4T2NpE"
      }
    },
    {
      "cell_type": "markdown",
      "source": [
        "12.What are the basic steps involved in exception handling in Python?\n",
        "  - wrap risky code in try block.\n",
        "  - catcherrors using except block.\n",
        "  - use else for code that runs if no errors.\n",
        "  - use finally block for cleanup."
      ],
      "metadata": {
        "id": "zfsDGcX924rr"
      }
    },
    {
      "cell_type": "markdown",
      "source": [
        "13.Why is memory management important in Python?\n",
        "  - prevent memory leaks.\n",
        "  - ensures efficient use of system resources.\n",
        "  - improves prformance and stability."
      ],
      "metadata": {
        "id": "cwE70KoX3QHH"
      }
    },
    {
      "cell_type": "markdown",
      "source": [
        "14.What is the role of try and except in exception handling?\n",
        "  - Try holds code that might raise exceptions,while except handle the exception gracefully."
      ],
      "metadata": {
        "id": "C58y4yK93jv0"
      }
    },
    {
      "cell_type": "markdown",
      "source": [
        "15.How does Python's garbage collection system work?\n",
        "  - Automatically reclaims memory if unused objects.\n",
        "  - uses reference counting and cyclic garbage collector.\n",
        "  - gc module can control it.   "
      ],
      "metadata": {
        "id": "Qam82Zo534Qq"
      }
    },
    {
      "cell_type": "markdown",
      "source": [
        "16.What is the purpose of the else block in exception handling?\n",
        "  - Else block executes code only if no exception occurs in try block."
      ],
      "metadata": {
        "id": "pyWSOGQX4SAq"
      }
    },
    {
      "cell_type": "markdown",
      "source": [
        "17.What are the common logging levels in Python?\n",
        "  - Debug\n",
        "  - Info\n",
        "  - Warning\n",
        "  - Error\n",
        "  - Critical"
      ],
      "metadata": {
        "id": "ItZVu0ON4gPd"
      }
    },
    {
      "cell_type": "markdown",
      "source": [
        "18.What is the difference between os.fork() and multiprocessing in Python?\n",
        "  - os.fork() create chid process(Unix only).\n",
        "  - multiprocessing cross plateform library for creating processes."
      ],
      "metadata": {
        "id": "TB_5tWvZ4zPv"
      }
    },
    {
      "cell_type": "markdown",
      "source": [
        "19.What is the importance of closing a file in Python?\n",
        "  - Frees system resources.\n",
        "  - Ensures all data is written to disk.\n",
        "  - Prevents file corruption."
      ],
      "metadata": {
        "id": "ubJmXYrr5L1z"
      }
    },
    {
      "cell_type": "markdown",
      "source": [
        "20.What is the difference between file.read() and file.readline() in Python?\n",
        "  - read()-reads the entire file or given number of bytes.\n",
        "  - readline()-reads one line at a time.\n"
      ],
      "metadata": {
        "id": "UsmXaZk95fg7"
      }
    },
    {
      "cell_type": "markdown",
      "source": [
        "21.What is the logging module in Python used for?\n",
        "  - It is used for understanding,monitoring and debugging the code."
      ],
      "metadata": {
        "id": "2GYfGsXW57KL"
      }
    },
    {
      "cell_type": "markdown",
      "source": [
        "22.What is the os module in Python used for in file handling?\n",
        "  - os module provides function for working with the file system."
      ],
      "metadata": {
        "id": "p5Tbatqr6Lqu"
      }
    },
    {
      "cell_type": "markdown",
      "source": [
        "23.What are the challenges associated with memory management in Python?\n",
        "  - Detecting and avoiding memory leaks.\n",
        "  - handling circular references.\n",
        "  - Managing large datasets efficiently."
      ],
      "metadata": {
        "id": "7me4GLJv6ape"
      }
    },
    {
      "cell_type": "markdown",
      "source": [
        "24.How do you raise an exception manually in Python?\n",
        "  - a=-10\n",
        "  if a<0:\n",
        "     raise ValueError(\"Negative value is not allowed\")"
      ],
      "metadata": {
        "id": "olBgjALT6vhA"
      }
    },
    {
      "cell_type": "markdown",
      "source": [
        "25.Why is it important to use multithreading in certain applications?\n",
        "  - useful for I/O bound tasks.\n",
        "  - Improves resposiveness in GUI programs.\n",
        "  - Allows background tasks while main program runs."
      ],
      "metadata": {
        "id": "daQCb2hd7ZvI"
      }
    },
    {
      "cell_type": "markdown",
      "source": [
        "#PRACTICAL QUESTIONS"
      ],
      "metadata": {
        "id": "HN6MkjOp714p"
      }
    },
    {
      "cell_type": "code",
      "source": [
        "#1.How can you open a file for writing in Python and write a string to it.\n",
        "f=open(\"file.txt\",\"w\")\n",
        "f.write(\"hello world\")\n",
        "f.close()"
      ],
      "metadata": {
        "id": "S7Npa-4F76h-"
      },
      "execution_count": 2,
      "outputs": []
    },
    {
      "cell_type": "code",
      "source": [
        "#2.Write a Python program to read the contents of a file and print each line.\n",
        "f=open(\"file.txt\",\"r\")\n",
        "print(f.read())\n",
        "f.close()"
      ],
      "metadata": {
        "colab": {
          "base_uri": "https://localhost:8080/"
        },
        "id": "aj8MidFj8eLL",
        "outputId": "e1c43f55-8bcb-4389-c6ac-7962b438534d"
      },
      "execution_count": 3,
      "outputs": [
        {
          "output_type": "stream",
          "name": "stdout",
          "text": [
            "hello world\n"
          ]
        }
      ]
    },
    {
      "cell_type": "code",
      "source": [
        "#3. How would you handle a case where the file doesn't exist while trying to open it for reading.\n",
        "try:\n",
        "  f=open(\"file.txt\",\"r\")\n",
        "except FileNotFoundError:\n",
        "  print(\"file not found\")"
      ],
      "metadata": {
        "colab": {
          "base_uri": "https://localhost:8080/"
        },
        "id": "I5hkse4w8trH",
        "outputId": "1a879d6b-911a-4488-9ae6-4f999894cb16"
      },
      "execution_count": 4,
      "outputs": [
        {
          "output_type": "stream",
          "name": "stdout",
          "text": [
            "hello world\n"
          ]
        }
      ]
    },
    {
      "cell_type": "code",
      "source": [
        "#4. Write a Python script that reads from one file and writes its content to another file.\n",
        "import os\n",
        "\n",
        "# Check if file1.txt exists, if not, create it and write some content\n",
        "if not os.path.exists(\"file1.txt\"):\n",
        "    with open(\"file1.txt\", \"w\") as f:\n",
        "        f.write(\"This is the content of file1.txt\")\n",
        "\n",
        "try:\n",
        "    f1 = open(\"file1.txt\", \"r\")\n",
        "    f2 = open(\"file2.txt\", \"w\")\n",
        "    f2.write(f1.read())\n",
        "    f1.close()\n",
        "    f2.close()\n",
        "except FileNotFoundError:\n",
        "    print(\"An error occurred: file1.txt was not found.\")\n",
        "except Exception as e:\n",
        "    print(f\"An unexpected error occurred: {e}\")"
      ],
      "metadata": {
        "id": "rCRdHWt280VZ"
      },
      "execution_count": 7,
      "outputs": []
    },
    {
      "cell_type": "code",
      "source": [
        "#5. How would you catch and handle division by zero error in Python.\n",
        "try:\n",
        "  a=10/0\n",
        "except ZeroDivisionError:\n",
        "  print(\"division by zero\")"
      ],
      "metadata": {
        "colab": {
          "base_uri": "https://localhost:8080/"
        },
        "id": "42DntTAD9swg",
        "outputId": "dfd72594-fb22-422f-8e32-50f018dd9695"
      },
      "execution_count": 9,
      "outputs": [
        {
          "output_type": "stream",
          "name": "stdout",
          "text": [
            "division by zero\n"
          ]
        }
      ]
    },
    {
      "cell_type": "code",
      "source": [
        "#6. Write a Python program that logs an error message to a log file when a division by zero exception occurs.\n",
        "import logging\n",
        "\n",
        "logging.basicConfig(filename='error.log', level=logging.ERROR)\n",
        "\n",
        "try:\n",
        "    result = 10 / 0\n",
        "except ZeroDivisionError:\n",
        "    logging.error(\"Division by zero error occurred\")"
      ],
      "metadata": {
        "colab": {
          "base_uri": "https://localhost:8080/"
        },
        "id": "vtb7hzEs-O9T",
        "outputId": "7f6aff09-4248-421a-95e9-a3b0882005e5"
      },
      "execution_count": 10,
      "outputs": [
        {
          "output_type": "stream",
          "name": "stderr",
          "text": [
            "ERROR:root:Division by zero error occurred\n"
          ]
        }
      ]
    },
    {
      "cell_type": "code",
      "source": [
        "#7. How do you log information at different levels (INFO, ERROR, WARNING) in Python using the logging module?\n",
        "import logging\n",
        "\n",
        "logging.basicConfig(filename='info.log', level=logging.INFO)\n",
        "\n",
        "logging.info(\"This is an info message\")\n",
        "logging.warning(\"This is a warning message\")\n",
        "logging.error(\"This is an error message\")"
      ],
      "metadata": {
        "colab": {
          "base_uri": "https://localhost:8080/"
        },
        "id": "X_FcpdK59j5W",
        "outputId": "3d92aa65-c850-4321-b1df-a0d21ef6917f"
      },
      "execution_count": 11,
      "outputs": [
        {
          "output_type": "stream",
          "name": "stderr",
          "text": [
            "WARNING:root:This is a warning message\n",
            "ERROR:root:This is an error message\n"
          ]
        }
      ]
    },
    {
      "cell_type": "code",
      "source": [
        "#8. Write a program to handle a file opening error using exception handling.\n",
        "filename=\"maybe.txt\"\n",
        "try:\n",
        "  with open(filename,\"r\") as f:\n",
        "    print(f.read())\n",
        "except FileNotFoundError:\n",
        "  print(f\"file {filename} not found\")"
      ],
      "metadata": {
        "colab": {
          "base_uri": "https://localhost:8080/"
        },
        "id": "RXfOMq2l-5uw",
        "outputId": "4529ff7d-586d-417e-c913-dbabcf90b54e"
      },
      "execution_count": 12,
      "outputs": [
        {
          "output_type": "stream",
          "name": "stdout",
          "text": [
            "file maybe.txt not found\n"
          ]
        }
      ]
    },
    {
      "cell_type": "code",
      "source": [
        "#9. How can you read a file line by line and store its content in a list in Python.\n",
        "lines=[]\n",
        "with open(\"file.txt\",\"r\") as f:\n",
        "  lines=f.readlines()\n",
        "print(lines)"
      ],
      "metadata": {
        "colab": {
          "base_uri": "https://localhost:8080/"
        },
        "id": "OfOep3O1_UEB",
        "outputId": "bc3d4f57-e109-45d2-f3dd-b44137777dd6"
      },
      "execution_count": 13,
      "outputs": [
        {
          "output_type": "stream",
          "name": "stdout",
          "text": [
            "['hello world']\n"
          ]
        }
      ]
    },
    {
      "cell_type": "code",
      "source": [
        "#10. How can you append data to an existing file in Python.\n",
        "with open(\"file.txt\",\"a\") as f:\n",
        "  f.write(\"\\nhello world\")"
      ],
      "metadata": {
        "id": "Kthtm8uD_m-H"
      },
      "execution_count": 14,
      "outputs": []
    },
    {
      "cell_type": "code",
      "source": [
        "#11. Write a Python program that uses a try-except block to handle an error when attempting to access a\n",
        "#dictionary key that doesn't exist.\n",
        "data={\"Name\":\"Kulsresth\"}\n",
        "try:\n",
        "  print(data[\"age\"])\n",
        "except KeyError:\n",
        "  print(\"key not found\")"
      ],
      "metadata": {
        "colab": {
          "base_uri": "https://localhost:8080/"
        },
        "id": "H8DBNbiC_xv-",
        "outputId": "bfeb9b0f-2406-48eb-fbc8-a5d56af1ee14"
      },
      "execution_count": 16,
      "outputs": [
        {
          "output_type": "stream",
          "name": "stdout",
          "text": [
            "key not found\n"
          ]
        }
      ]
    },
    {
      "cell_type": "code",
      "source": [
        " #12.Write a program that demonstrates using multiple except blocks to handle different types of exceptions\n",
        " value=\"abc\"\n",
        " try:\n",
        "  n=int(value)\n",
        " except ValueError:\n",
        "  print(\"invalid value\")\n",
        " except TypeError:\n",
        "  print(\"invalid type\")"
      ],
      "metadata": {
        "colab": {
          "base_uri": "https://localhost:8080/"
        },
        "id": "Px2I-lqSAdV3",
        "outputId": "d0ba6ede-320f-4f77-e9be-424ecedc18f3"
      },
      "execution_count": 17,
      "outputs": [
        {
          "output_type": "stream",
          "name": "stdout",
          "text": [
            "invalid value\n"
          ]
        }
      ]
    },
    {
      "cell_type": "code",
      "source": [
        "#13.How would you check if a file exists before attempting to read it in Python.\n",
        "from pathlib import Path\n",
        "p=Path(\"file.txt\")\n",
        "if p.exists():\n",
        "  with open(\"file.txt\",\"r\") as f:\n",
        "    print(f.read())"
      ],
      "metadata": {
        "colab": {
          "base_uri": "https://localhost:8080/"
        },
        "id": "T11adVLxEnQj",
        "outputId": "b1f47d3b-d561-4959-80e0-d5291ce63f36"
      },
      "execution_count": 18,
      "outputs": [
        {
          "output_type": "stream",
          "name": "stdout",
          "text": [
            "hello world\n",
            "hello world\n"
          ]
        }
      ]
    },
    {
      "cell_type": "code",
      "source": [
        "#14. Write a program that uses the logging module to log both informational and error messages.\n",
        "import logging\n",
        "\n",
        "logging.basicConfig(filename='info.log', level=logging.INFO)\n",
        "logging.basicConfig(filename='error.log', level=logging.ERROR)\n",
        "\n",
        "logging.info(\"This is an info message\")\n",
        "logging.error(\"This is an error message\")"
      ],
      "metadata": {
        "colab": {
          "base_uri": "https://localhost:8080/"
        },
        "id": "W2MZGbKiFAjD",
        "outputId": "96f1d367-c1c6-4f75-da93-0de5e62bd6a0"
      },
      "execution_count": 19,
      "outputs": [
        {
          "output_type": "stream",
          "name": "stderr",
          "text": [
            "ERROR:root:This is an error message\n"
          ]
        }
      ]
    },
    {
      "cell_type": "code",
      "source": [
        "#15. Write a Python program that prints the content of a file and handles the case when the file is empty.\n",
        "filename=\"file.txt\"\n",
        "try:\n",
        "  with open(filename,\"r\") as f:\n",
        "    print(f.read())\n",
        "except FileNotFoundError:\n",
        "  print(f\"file {filename} not found\")"
      ],
      "metadata": {
        "colab": {
          "base_uri": "https://localhost:8080/"
        },
        "id": "PDZ_I3aFFMYP",
        "outputId": "00664315-6c29-4379-ec96-10408c9da4af"
      },
      "execution_count": 20,
      "outputs": [
        {
          "output_type": "stream",
          "name": "stdout",
          "text": [
            "hello world\n",
            "hello world\n"
          ]
        }
      ]
    },
    {
      "cell_type": "code",
      "source": [
        "#16. Demonstrate how to use memory profiling to check the memory usage of a small program.\n",
        "import tracemalloc\n",
        "def make_list(n=1_000_0):\n",
        "  return list(range(n))\n",
        "tracemalloc.start()\n",
        "lis = make_list(100_000)\n",
        "current, peak = tracemalloc.get_traced_memory()"
      ],
      "metadata": {
        "id": "uzpW9FqhFYPW"
      },
      "execution_count": 21,
      "outputs": []
    },
    {
      "cell_type": "code",
      "source": [
        "#17. Write a Python program to create and write a list of numbers to a file, one number per line.\n",
        "nums=list(range(1,11))\n",
        "with open(\"numbers.txt\",\"w\") as f:\n",
        "  for n in nums:\n",
        "    f.write(f\"{n}\\n\")"
      ],
      "metadata": {
        "id": "bM9YznNtHeuB"
      },
      "execution_count": 22,
      "outputs": []
    },
    {
      "cell_type": "code",
      "source": [
        "#18. How would you implement a basic logging setup that logs to a file with rotation after 1MB.\n",
        "import logging\n",
        "from logging.handlers import RotatingFileHandler\n",
        "\n",
        "# Set up logging\n",
        "logger=logging.getLogger(\"rotator\")\n",
        "logger.setLevel(logging.INFO)\n",
        "handler=RotatingFileHandler(\"log.txt\",maxBytes=1000000,backupCount=5)\n",
        "formatter=logging.Formatter(\"%(asctime)s - %(levelname)s - %(message)s\")\n",
        "handler.setFormatter(formatter)\n",
        "logger.addHandler(handler)\n",
        "\n",
        "for i in range(5):\n",
        "  logger.info(\"Line %d-some log massage\",i)"
      ],
      "metadata": {
        "colab": {
          "base_uri": "https://localhost:8080/"
        },
        "id": "49_06rXEIUCU",
        "outputId": "8bc73b7e-d93a-4016-ff0c-7008ff89cb46"
      },
      "execution_count": 24,
      "outputs": [
        {
          "output_type": "stream",
          "name": "stderr",
          "text": [
            "INFO:rotator:Line 0-some log massage\n",
            "INFO:rotator:Line 1-some log massage\n",
            "INFO:rotator:Line 2-some log massage\n",
            "INFO:rotator:Line 3-some log massage\n",
            "INFO:rotator:Line 4-some log massage\n"
          ]
        }
      ]
    },
    {
      "cell_type": "code",
      "source": [
        "#19. Write a program that handles both IndexError and KeyError using a try-except block\n",
        "L=[1,2,3]\n",
        "D={'Name':'Kulsresth'}\n",
        "try:\n",
        "  print(L[5])\n",
        "  print(D['age'])\n",
        "except IndexError:\n",
        "  print(\"index error\")\n",
        "except KeyError:\n",
        "  print(\"key error\")\n",
        "\n"
      ],
      "metadata": {
        "colab": {
          "base_uri": "https://localhost:8080/"
        },
        "id": "5L_hhkrJKFnY",
        "outputId": "c57b1562-50df-45ad-ed6a-d159b9fc2a47"
      },
      "execution_count": 26,
      "outputs": [
        {
          "output_type": "stream",
          "name": "stdout",
          "text": [
            "index error\n"
          ]
        }
      ]
    },
    {
      "cell_type": "code",
      "source": [
        "#20.How would you open a file and read its contents using a context manager in Python.\n",
        "with open(\"file.txt\",\"r\") as f:\n",
        "  print(f.read())"
      ],
      "metadata": {
        "colab": {
          "base_uri": "https://localhost:8080/"
        },
        "id": "Ec-tMFmxK_pg",
        "outputId": "489e08c0-014a-4447-d141-1ae6705803fb"
      },
      "execution_count": 27,
      "outputs": [
        {
          "output_type": "stream",
          "name": "stdout",
          "text": [
            "hello world\n",
            "hello world\n"
          ]
        }
      ]
    },
    {
      "cell_type": "code",
      "source": [
        "#21. Write a Python program that reads a file and prints the number of occurrences of a specific word.\n",
        "word=\"hello\"\n",
        "count=0\n",
        "with open(\"file.txt\",\"r\") as f:\n",
        "  for line in f:\n",
        "    words=line.split()\n",
        "    for w in words:\n",
        "      if w==word:\n",
        "        count+=1\n",
        "        print(f\"the word {word} occurs {count} times\")\n"
      ],
      "metadata": {
        "colab": {
          "base_uri": "https://localhost:8080/"
        },
        "id": "znsHMpFtLd2b",
        "outputId": "157735f2-47ad-4c5a-d7e8-6ac239f41d2e"
      },
      "execution_count": 30,
      "outputs": [
        {
          "output_type": "stream",
          "name": "stdout",
          "text": [
            "the word hello occurs 1 times\n",
            "the word hello occurs 2 times\n"
          ]
        }
      ]
    },
    {
      "cell_type": "code",
      "source": [
        "#22. How can you check if a file is empty before attempting to read its contents?\n",
        "import os\n",
        "filename=\"file.txt\"\n",
        "if os.stat(filename).st_size==0:\n",
        "  print(\"file is empty\")\n",
        "else:\n",
        "  with open(filename,\"r\") as f:\n",
        "    print(f.read())"
      ],
      "metadata": {
        "colab": {
          "base_uri": "https://localhost:8080/"
        },
        "id": "a-RtRox8MFtJ",
        "outputId": "1b830acf-6aed-427a-de81-99ac2c5b5c8c"
      },
      "execution_count": 31,
      "outputs": [
        {
          "output_type": "stream",
          "name": "stdout",
          "text": [
            "hello world\n",
            "hello world\n"
          ]
        }
      ]
    },
    {
      "cell_type": "code",
      "source": [
        "#23. Write a Python program that writes to a log file when an error occurs during file handling.\n",
        "import logging\n",
        "\n",
        "logging.basicConfig(filename='error.log', level=logging.ERROR)\n",
        "filename=\"does_not_exist.txt\"\n",
        "try:\n",
        "  with open(filename,\"r\") as f:\n",
        "    print(f.read())\n",
        "except FileNotFoundError:\n",
        "  logging.error(f\"file {filename} not found\")"
      ],
      "metadata": {
        "colab": {
          "base_uri": "https://localhost:8080/"
        },
        "id": "L0D5g2mJMSMM",
        "outputId": "3bcd2e0b-5fde-4681-ebd6-96d2435dbadf"
      },
      "execution_count": 32,
      "outputs": [
        {
          "output_type": "stream",
          "name": "stderr",
          "text": [
            "ERROR:root:file does_not_exist.txt not found\n"
          ]
        }
      ]
    },
    {
      "cell_type": "code",
      "source": [],
      "metadata": {
        "id": "uUHKk_NHM3Tz"
      },
      "execution_count": null,
      "outputs": []
    },
    {
      "cell_type": "code",
      "source": [],
      "metadata": {
        "id": "200IsjXqL8Qb"
      },
      "execution_count": null,
      "outputs": []
    },
    {
      "cell_type": "code",
      "source": [],
      "metadata": {
        "id": "u-cDvxHjLqi9"
      },
      "execution_count": null,
      "outputs": []
    },
    {
      "cell_type": "code",
      "source": [],
      "metadata": {
        "id": "Vf0q2dRLK8yQ"
      },
      "execution_count": null,
      "outputs": []
    },
    {
      "cell_type": "code",
      "source": [],
      "metadata": {
        "id": "Sw59ryt9J1MJ"
      },
      "execution_count": null,
      "outputs": []
    }
  ]
}